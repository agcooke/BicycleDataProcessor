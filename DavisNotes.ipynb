{
 "metadata": {
  "name": "DavisNotes"
 }, 
 "nbformat": 2, 
 "worksheets": [
  {
   "cells": [
    {
     "cell_type": "markdown", 
     "source": [
      "Ipython and ipython notebook", 
      "=============================", 
      "Yes these are fun things to use, you can make documents with code embedded in the docs, which can execute on screen."
     ]
    }, 
    {
     "cell_type": "markdown", 
     "source": [
      "VirtualENV:", 
      "===========", 
      "Install virtualenv and virtualenv-wrapper"
     ]
    }, 
    {
     "cell_type": "markdown", 
     "source": [
      "Install Vir", 
      "Installing scipy (on Linux, Ubuntu 12.04):", 
      "", 
      "Go to scipy, git clone the repositiory. Open up the installs file and do the following.", 
      "", 
      "     sudo apt-get install python python-dev libatlas3-base-dev gcc gfortran g++", 
      "     sudo aptitude install liblapack-dev", 
      "", 
      "", 
      "Installing scipy (on windows):", 
      "[PythonXY](https://code.google.com/p/pythonxy/)", 
      "[Enthought](http://www.enthought.com/)"
     ]
    }, 
    {
     "cell_type": "code", 
     "collapsed": true, 
     "input": [], 
     "language": "python", 
     "outputs": []
    }, 
    {
     "cell_type": "markdown", 
     "source": [
      "Working with the Data processor.", 
      "================================"
     ]
    }, 
    {
     "cell_type": "code", 
     "collapsed": true, 
     "input": [
      "import bicycledataprocessor as bdp"
     ], 
     "language": "python", 
     "outputs": [], 
     "prompt_number": 1
    }, 
    {
     "cell_type": "code", 
     "collapsed": true, 
     "input": [
      "dataset = bdp.DataSet()"
     ], 
     "language": "python", 
     "outputs": [], 
     "prompt_number": 2
    }, 
    {
     "cell_type": "code", 
     "collapsed": true, 
     "input": [
      "#dataset.open(mode='a')", 
      "#dataset.create_task_table()"
     ], 
     "language": "python", 
     "outputs": [], 
     "prompt_number": 3
    }, 
    {
     "cell_type": "code", 
     "collapsed": false, 
     "input": [
      "run = bdp.Run('00105', dataset)"
     ], 
     "language": "python", 
     "outputs": [
      {
       "output_type": "stream", 
       "stream": "stdout", 
       "text": [
        "Initializing the run object.", 
        "Loading metadata from the database.", 
        "Loading the raw signals from the database.", 
        "Loading the bicycle and rider data for Jason on Rigid Rider"
       ]
      }, 
      {
       "ename": "TypeError", 
       "evalue": "filtfilt() got an unexpected keyword argument 'axis'", 
       "output_type": "pyerr", 
       "traceback": [
        "\u001b[0;31m---------------------------------------------------------------------------\u001b[0m\n\u001b[0;31mTypeError\u001b[0m                                 Traceback (most recent call last)", 
        "\u001b[0;32m/home/cooke/workspace/BicycleDataProcessor/<ipython-input-4-6f6257beea1c>\u001b[0m in \u001b[0;36m<module>\u001b[0;34m()\u001b[0m\n\u001b[0;32m----> 1\u001b[0;31m \u001b[0mrun\u001b[0m \u001b[0;34m=\u001b[0m \u001b[0mbdp\u001b[0m\u001b[0;34m.\u001b[0m\u001b[0mRun\u001b[0m\u001b[0;34m(\u001b[0m\u001b[0;34m'00105'\u001b[0m\u001b[0;34m,\u001b[0m \u001b[0mdataset\u001b[0m\u001b[0;34m)\u001b[0m\u001b[0;34m\u001b[0m\u001b[0m\n\u001b[0m", 
        "\u001b[0;32m/home/cooke/workspace/BicycleDataProcessor/bicycledataprocessor/main.pyc\u001b[0m in \u001b[0;36m__init__\u001b[0;34m(self, runid, dataset, pathToParameterData, forceRecalc, filterFreq, store)\u001b[0m\n\u001b[1;32m    657\u001b[0m             \u001b[0;32mexcept\u001b[0m \u001b[0mAttributeError\u001b[0m\u001b[0;34m:\u001b[0m\u001b[0;34m\u001b[0m\u001b[0m\n\u001b[1;32m    658\u001b[0m                 \u001b[0;32mpass\u001b[0m\u001b[0;34m\u001b[0m\u001b[0m\n\u001b[0;32m--> 659\u001b[0;31m             \u001b[0mself\u001b[0m\u001b[0;34m.\u001b[0m\u001b[0mprocess_raw_signals\u001b[0m\u001b[0;34m(\u001b[0m\u001b[0;34m)\u001b[0m\u001b[0;34m\u001b[0m\u001b[0m\n\u001b[0m\u001b[1;32m    660\u001b[0m \u001b[0;34m\u001b[0m\u001b[0m\n\u001b[1;32m    661\u001b[0m         \u001b[0;31m# store the task signals in the database if they are newly computed\u001b[0m\n\u001b[0;34m\u001b[0m\u001b[0m\n", 
        "\u001b[0;32m/home/cooke/workspace/BicycleDataProcessor/bicycledataprocessor/main.pyc\u001b[0m in \u001b[0;36mprocess_raw_signals\u001b[0;34m(self)\u001b[0m\n\u001b[1;32m    690\u001b[0m         \u001b[0mcon3\u001b[0m \u001b[0;34m=\u001b[0m \u001b[0mmaneuver\u001b[0m \u001b[0;34m!=\u001b[0m \u001b[0;34m'Static Calibration'\u001b[0m\u001b[0;34m\u001b[0m\u001b[0m\n\u001b[1;32m    691\u001b[0m         \u001b[0;32mif\u001b[0m \u001b[0mcon1\u001b[0m \u001b[0;32mand\u001b[0m \u001b[0mcon2\u001b[0m \u001b[0;32mand\u001b[0m \u001b[0mcon3\u001b[0m\u001b[0;34m:\u001b[0m\u001b[0;34m\u001b[0m\u001b[0m\n\u001b[0;32m--> 692\u001b[0;31m             \u001b[0mself\u001b[0m\u001b[0;34m.\u001b[0m\u001b[0mcompute_time_shift\u001b[0m\u001b[0;34m(\u001b[0m\u001b[0;34m)\u001b[0m\u001b[0;34m\u001b[0m\u001b[0m\n\u001b[0m\u001b[1;32m    693\u001b[0m             \u001b[0mself\u001b[0m\u001b[0;34m.\u001b[0m\u001b[0mcheck_time_shift\u001b[0m\u001b[0;34m(\u001b[0m\u001b[0;36m0.15\u001b[0m\u001b[0;34m)\u001b[0m\u001b[0;34m\u001b[0m\u001b[0m\n\u001b[1;32m    694\u001b[0m             \u001b[0mself\u001b[0m\u001b[0;34m.\u001b[0m\u001b[0mtruncate_signals\u001b[0m\u001b[0;34m(\u001b[0m\u001b[0;34m)\u001b[0m\u001b[0;34m\u001b[0m\u001b[0m\n", 
        "\u001b[0;32m/home/cooke/workspace/BicycleDataProcessor/bicycledataprocessor/main.pyc\u001b[0m in \u001b[0;36mcompute_time_shift\u001b[0;34m(self)\u001b[0m\n\u001b[1;32m    780\u001b[0m             \u001b[0mself\u001b[0m\u001b[0;34m.\u001b[0m\u001b[0mcalibratedSignals\u001b[0m\u001b[0;34m[\u001b[0m\u001b[0;34m'AccelerationZ'\u001b[0m\u001b[0;34m]\u001b[0m\u001b[0;34m,\u001b[0m\u001b[0;34m\u001b[0m\u001b[0m\n\u001b[1;32m    781\u001b[0m             \u001b[0mself\u001b[0m\u001b[0;34m.\u001b[0m\u001b[0mmetadata\u001b[0m\u001b[0;34m[\u001b[0m\u001b[0;34m'NISampleRate'\u001b[0m\u001b[0;34m]\u001b[0m\u001b[0;34m,\u001b[0m\u001b[0;34m\u001b[0m\u001b[0m\n\u001b[0;32m--> 782\u001b[0;31m             self.metadata['Speed'], plotError=False)\n\u001b[0m\u001b[1;32m    783\u001b[0m \u001b[0;34m\u001b[0m\u001b[0m\n\u001b[1;32m    784\u001b[0m     \u001b[0;32mdef\u001b[0m \u001b[0mcheck_time_shift\u001b[0m\u001b[0;34m(\u001b[0m\u001b[0mself\u001b[0m\u001b[0;34m,\u001b[0m \u001b[0mmaxNRMS\u001b[0m\u001b[0;34m)\u001b[0m\u001b[0;34m:\u001b[0m\u001b[0;34m\u001b[0m\u001b[0m\n", 
        "\u001b[0;32m/home/cooke/workspace/BicycleDataProcessor/bicycledataprocessor/signalprocessing.pyc\u001b[0m in \u001b[0;36mfind_timeshift\u001b[0;34m(niAcc, vnAcc, sampleRate, speed, plotError)\u001b[0m\n\u001b[1;32m    413\u001b[0m     \u001b[0mcutoff\u001b[0m \u001b[0;34m=\u001b[0m \u001b[0;36m30.\u001b[0m\u001b[0;34m\u001b[0m\u001b[0m\n\u001b[1;32m    414\u001b[0m     \u001b[0;31m# filter the NI Signal\u001b[0m\n\u001b[0;34m\u001b[0m\u001b[0m\n\u001b[0;32m--> 415\u001b[0;31m     \u001b[0mfilNiSig\u001b[0m \u001b[0;34m=\u001b[0m \u001b[0mbutterworth\u001b[0m\u001b[0;34m(\u001b[0m\u001b[0mniSig\u001b[0m\u001b[0;34m,\u001b[0m \u001b[0mcutoff\u001b[0m\u001b[0;34m,\u001b[0m \u001b[0msampleRate\u001b[0m\u001b[0;34m)\u001b[0m\u001b[0;34m\u001b[0m\u001b[0m\n\u001b[0m\u001b[1;32m    416\u001b[0m     \u001b[0;31m# find the bump in the filtered NI signal\u001b[0m\n\u001b[0;34m\u001b[0m\u001b[0m\n\u001b[1;32m    417\u001b[0m     \u001b[0mniBump\u001b[0m \u001b[0;34m=\u001b[0m  \u001b[0mfind_bump\u001b[0m\u001b[0;34m(\u001b[0m\u001b[0mfilNiSig\u001b[0m\u001b[0;34m,\u001b[0m \u001b[0msampleRate\u001b[0m\u001b[0;34m,\u001b[0m \u001b[0mspeed\u001b[0m\u001b[0;34m,\u001b[0m \u001b[0mwheelbase\u001b[0m\u001b[0;34m,\u001b[0m \u001b[0mbumpLength\u001b[0m\u001b[0;34m)\u001b[0m\u001b[0;34m\u001b[0m\u001b[0m\n", 
        "\u001b[0;32m/home/cooke/workspace/DynamicistToolKit/dtk/process.pyc\u001b[0m in \u001b[0;36mbutterworth\u001b[0;34m(data, cutoff, sampleRate, order, axis)\u001b[0m\n\u001b[1;32m    213\u001b[0m     \u001b[0mb\u001b[0m\u001b[0;34m,\u001b[0m \u001b[0ma\u001b[0m \u001b[0;34m=\u001b[0m \u001b[0mbutter\u001b[0m\u001b[0;34m(\u001b[0m\u001b[0morder\u001b[0m\u001b[0;34m,\u001b[0m \u001b[0mfloat\u001b[0m\u001b[0;34m(\u001b[0m\u001b[0mcutoff\u001b[0m\u001b[0;34m)\u001b[0m \u001b[0;34m/\u001b[0m \u001b[0mfloat\u001b[0m\u001b[0;34m(\u001b[0m\u001b[0msampleRate\u001b[0m\u001b[0;34m)\u001b[0m \u001b[0;34m/\u001b[0m \u001b[0;36m2.\u001b[0m\u001b[0;34m)\u001b[0m\u001b[0;34m\u001b[0m\u001b[0m\n\u001b[1;32m    214\u001b[0m \u001b[0;34m\u001b[0m\u001b[0m\n\u001b[0;32m--> 215\u001b[0;31m     \u001b[0;32mreturn\u001b[0m \u001b[0mfiltfilt\u001b[0m\u001b[0;34m(\u001b[0m\u001b[0mb\u001b[0m\u001b[0;34m,\u001b[0m \u001b[0ma\u001b[0m\u001b[0;34m,\u001b[0m \u001b[0mdata\u001b[0m\u001b[0;34m,\u001b[0m \u001b[0maxis\u001b[0m\u001b[0;34m=\u001b[0m\u001b[0maxis\u001b[0m\u001b[0;34m)\u001b[0m\u001b[0;34m\u001b[0m\u001b[0m\n\u001b[0m\u001b[1;32m    216\u001b[0m \u001b[0;34m\u001b[0m\u001b[0m\n\u001b[1;32m    217\u001b[0m \u001b[0;32mdef\u001b[0m \u001b[0msubtract_mean\u001b[0m\u001b[0;34m(\u001b[0m\u001b[0msig\u001b[0m\u001b[0;34m,\u001b[0m \u001b[0mhasNans\u001b[0m\u001b[0;34m=\u001b[0m\u001b[0mFalse\u001b[0m\u001b[0;34m)\u001b[0m\u001b[0;34m:\u001b[0m\u001b[0;34m\u001b[0m\u001b[0m\n", 
        "\u001b[0;31mTypeError\u001b[0m: filtfilt() got an unexpected keyword argument 'axis'"
       ]
      }, 
      {
       "output_type": "stream", 
       "stream": "stdout", 
       "text": [
        "", 
        "We have foundeth a directory named: /home/cooke/workspace/BicycleDataProcessor/../BicycleParameters/data/bicycles/Rigid.", 
        "Found the RawData directory: /home/cooke/workspace/BicycleDataProcessor/../BicycleParameters/data/bicycles/Rigid/RawData", 
        "Looks like you've already got some parameters for Rigid, use forceRawCalc to recalculate.", 
        "There is no rider on the bicycle, now adding Jason.", 
        "Loaded the precalculated parameters from /home/cooke/workspace/BicycleDataProcessor/../BicycleParameters/data/riders/Jason/Parameters/JasonRigidBenchmark.txt", 
        "Computing signals from raw data."
       ]
      }
     ], 
     "prompt_number": 4
    }, 
    {
     "cell_type": "code", 
     "collapsed": false, 
     "input": [
      "import scipy", 
      "scipy.__version__"
     ], 
     "language": "python", 
     "outputs": [
      {
       "output_type": "pyout", 
       "prompt_number": 5, 
       "text": [
        "'0.9.0'"
       ]
      }
     ], 
     "prompt_number": 5
    }, 
    {
     "cell_type": "code", 
     "collapsed": true, 
     "input": [], 
     "language": "python", 
     "outputs": []
    }
   ]
  }
 ]
}